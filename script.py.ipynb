{
 "cells": [
  {
   "cell_type": "code",
   "execution_count": null,
   "metadata": {},
   "outputs": [],
   "source": [
    "import requests\n",
    "from bs4 import BeautifulSoup\n",
    "import smtplib\n",
    "import time"
   ]
  },
  {
   "cell_type": "code",
   "execution_count": null,
   "metadata": {},
   "outputs": [],
   "source": [
    "URL = 'https://www.amazon.com/Ultra-Slim-i7-10510U-Innovative-Screenpad-UX434FLC-XH77/dp/B07YZ1MK99/ref=sr_1_3?keywords=asus+zenbook&qid=1585420348&sr=8-3'\n",
    "headers = {\"User-Agent\": 'Mozilla/5.0 (Windows NT 10.0; Win64; x64) AppleWebKit/537.36 (KHTML, like Gecko) Chrome/80.0.3987.149 Safari/537.36'}\n",
    "\n",
    "def check_price():\n",
    "    page = requests.get(URL, headers=headers)\n",
    "    soup1 = BeautifulSoup(page.content, 'html.parser')\n",
    "    soup2 = BeautifulSoup(soup1.prettify(), \"html.parser\")\n",
    "    title = soup2.find(id=\"productTitle\").get_text()\n",
    "    price = soup2.find(id=\"priceblock_ourprice\").get_text()\n",
    "    split_price = price.split('.', 1)\n",
    "    converted_price = float(split_price[0][1:].replace(',',''))\n",
    "\n",
    "    if ( converted_price < 1000.0 ):\n",
    "        send_mail()\n",
    "\n",
    "def send_mail():\n",
    "    server = smtplib.SMTP('smtp.gmail.com', 587)\n",
    "    server.ehlo()\n",
    "    server.starttls()\n",
    "    server.ehlo()\n",
    "    server.login('rabbitalvin9@gmail.com', 'wdyknxrxdbnroclg')\n",
    "    subject = 'Price fell down!'\n",
    "    body = 'Check the amazon link! \\n https://www.amazon.com/Ultra-Slim-i7-10510U-Innovative-Screenpad-UX434FLC-XH77/dp/B07YZ1MK99/ref=sr_1_3?keywords=asus+zenbook&qid=1585420348&sr=8-3'\n",
    "    msg = f\"Subject: {subject}\\n\\n{body}\"\n",
    "    server.sendmail(\n",
    "        'rabbitalvin9@gmail.com',\n",
    "        'alvin99wong@gmail.com',\n",
    "        msg\n",
    "    )\n",
    "    print('email sent')\n",
    "    server.quit()"
   ]
  },
  {
   "cell_type": "code",
   "execution_count": null,
   "metadata": {},
   "outputs": [],
   "source": [
    "while(True):\n",
    "    check_price()\n",
    "    time.sleep(60*60*24)"
   ]
  }
 ],
 "metadata": {
  "kernelspec": {
   "display_name": "Python 3",
   "language": "python",
   "name": "python3"
  },
  "language_info": {
   "codemirror_mode": {
    "name": "ipython",
    "version": 3
   },
   "file_extension": ".py",
   "mimetype": "text/x-python",
   "name": "python",
   "nbconvert_exporter": "python",
   "pygments_lexer": "ipython3",
   "version": "3.7.3"
  }
 },
 "nbformat": 4,
 "nbformat_minor": 2
}
